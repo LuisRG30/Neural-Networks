{
  "nbformat": 4,
  "nbformat_minor": 0,
  "metadata": {
    "colab": {
      "name": "Clasificación de imágenes con redes profundas",
      "provenance": [],
      "collapsed_sections": [],
      "toc_visible": true
    },
    "kernelspec": {
      "name": "python3",
      "display_name": "Python 3"
    },
    "language_info": {
      "name": "python"
    },
    "accelerator": "GPU"
  },
  "cells": [
    {
      "cell_type": "markdown",
      "metadata": {
        "id": "M8IH-elfkUPo"
      },
      "source": [
        "# Dependencias"
      ]
    },
    {
      "cell_type": "code",
      "metadata": {
        "id": "IlSLFkcNiMIn"
      },
      "source": [
        "import pandas as pd\n",
        "import numpy as np\n",
        "import tensorflow as tf\n",
        "from tensorflow.keras import datasets\n",
        "import matplotlib.pyplot as plt\n",
        "from sklearn.model_selection import train_test_split\n",
        "from tensorflow.keras.layers import Input, Conv2D, MaxPooling2D, Flatten, Dense, Dropout, BatchNormalization\n",
        "from tensorflow.keras.models import Sequential\n",
        "from tensorflow.keras.optimizers import Adam\n",
        "from tensorflow.keras import regularizers"
      ],
      "execution_count": 1,
      "outputs": []
    },
    {
      "cell_type": "markdown",
      "metadata": {
        "id": "HNnBzndRkWre"
      },
      "source": [
        "# Fashion"
      ]
    },
    {
      "cell_type": "code",
      "metadata": {
        "id": "8c2Uf8KoiVbR"
      },
      "source": [
        "(f_x_train, f_y_train), (f_x_test, f_y_test) = datasets.fashion_mnist.load_data()\n",
        "\n",
        "f_x_train = f_x_train.astype(\"float32\") / 255\n",
        "f_x_test = f_x_test.astype(\"float32\") / 255\n",
        "\n",
        "f_x_train, f_x_val, f_y_train, f_y_val = train_test_split(f_x_train, f_y_train, test_size=0.15)"
      ],
      "execution_count": 4,
      "outputs": []
    },
    {
      "cell_type": "code",
      "metadata": {
        "colab": {
          "base_uri": "https://localhost:8080/"
        },
        "id": "DAXmAm6g9V-7",
        "outputId": "b226176f-d7db-4830-b626-afb6eb4c3709"
      },
      "source": [
        "print(f_x_train.shape, f_x_val.shape, f_x_test.shape)"
      ],
      "execution_count": 5,
      "outputs": [
        {
          "output_type": "stream",
          "name": "stdout",
          "text": [
            "(51000, 28, 28) (9000, 28, 28) (10000, 28, 28)\n"
          ]
        }
      ]
    },
    {
      "cell_type": "code",
      "metadata": {
        "id": "DI_onMxnku1F"
      },
      "source": [
        "model = Sequential([\n",
        "    Conv2D(64, kernel_size=(3, 3), activation='relu', padding='same', \n",
        "            input_shape=(28, 28, 1)),\n",
        "    BatchNormalization(),\n",
        "    Conv2D(64, kernel_size=(3, 3), activation='relu'),\n",
        "    BatchNormalization(),\n",
        "    MaxPooling2D(pool_size=(2, 2)),\n",
        "    \n",
        "    Flatten(),\n",
        "    \n",
        "    Dense(1024, activation='relu'),\n",
        "    Dense(512, activation='relu'),\n",
        "    \n",
        "    Dense(10, activation='softmax')\n",
        "])"
      ],
      "execution_count": 6,
      "outputs": []
    },
    {
      "cell_type": "code",
      "metadata": {
        "colab": {
          "base_uri": "https://localhost:8080/"
        },
        "id": "DjknC9rOozS7",
        "outputId": "39d44d09-b40c-41c0-a846-7d33bd2254ba"
      },
      "source": [
        "adam = Adam(lr=0.001, decay=1e-6)\n",
        "model.compile(optimizer=adam,\n",
        "                loss='sparse_categorical_crossentropy',\n",
        "                metrics=['accuracy'])"
      ],
      "execution_count": 7,
      "outputs": [
        {
          "output_type": "stream",
          "name": "stderr",
          "text": [
            "/usr/local/lib/python3.7/dist-packages/keras/optimizer_v2/adam.py:105: UserWarning: The `lr` argument is deprecated, use `learning_rate` instead.\n",
            "  super(Adam, self).__init__(name, **kwargs)\n"
          ]
        }
      ]
    },
    {
      "cell_type": "code",
      "metadata": {
        "colab": {
          "base_uri": "https://localhost:8080/"
        },
        "id": "ExfCot6oquNS",
        "outputId": "c5fb34dd-7e85-4dde-ba92-0468333d23e9"
      },
      "source": [
        " history = model.fit(f_x_train, f_y_train, validation_data=(f_x_val, f_y_val) , epochs=10, batch_size=32)"
      ],
      "execution_count": 9,
      "outputs": [
        {
          "output_type": "stream",
          "name": "stdout",
          "text": [
            "Epoch 1/10\n",
            "1594/1594 [==============================] - 26s 16ms/step - loss: 0.4399 - accuracy: 0.8565 - val_loss: 0.3054 - val_accuracy: 0.8927\n",
            "Epoch 2/10\n",
            "1594/1594 [==============================] - 27s 17ms/step - loss: 0.2607 - accuracy: 0.9053 - val_loss: 0.2946 - val_accuracy: 0.8971\n",
            "Epoch 3/10\n",
            "1594/1594 [==============================] - 26s 16ms/step - loss: 0.2121 - accuracy: 0.9224 - val_loss: 0.2855 - val_accuracy: 0.9049\n",
            "Epoch 4/10\n",
            "1594/1594 [==============================] - 27s 17ms/step - loss: 0.1746 - accuracy: 0.9368 - val_loss: 0.2721 - val_accuracy: 0.9123\n",
            "Epoch 5/10\n",
            "1594/1594 [==============================] - 27s 17ms/step - loss: 0.1423 - accuracy: 0.9476 - val_loss: 0.2678 - val_accuracy: 0.9191\n",
            "Epoch 6/10\n",
            "1594/1594 [==============================] - 26s 16ms/step - loss: 0.1217 - accuracy: 0.9575 - val_loss: 0.3205 - val_accuracy: 0.9170\n",
            "Epoch 7/10\n",
            "1594/1594 [==============================] - 27s 17ms/step - loss: 0.1040 - accuracy: 0.9644 - val_loss: 0.3011 - val_accuracy: 0.9204\n",
            "Epoch 8/10\n",
            "1594/1594 [==============================] - 27s 17ms/step - loss: 0.0805 - accuracy: 0.9722 - val_loss: 0.3181 - val_accuracy: 0.9248\n",
            "Epoch 9/10\n",
            "1594/1594 [==============================] - 25s 16ms/step - loss: 0.0676 - accuracy: 0.9769 - val_loss: 0.3746 - val_accuracy: 0.9231\n",
            "Epoch 10/10\n",
            "1594/1594 [==============================] - 27s 17ms/step - loss: 0.0571 - accuracy: 0.9807 - val_loss: 0.3860 - val_accuracy: 0.9194\n"
          ]
        }
      ]
    },
    {
      "cell_type": "code",
      "metadata": {
        "colab": {
          "base_uri": "https://localhost:8080/"
        },
        "id": "Du152JMNuCHo",
        "outputId": "c7944de7-e385-4305-e03c-1dfe08b3b696"
      },
      "source": [
        "print(\"\\nEvaluating...\", flush=True)\n",
        "print('Training data:', flush=True)\n",
        "loss, acc = model.evaluate(f_x_train, f_y_train, verbose=1)\n",
        "print(\"  Training : loss %.3f - acc %.3f\" % (loss, acc))\n",
        "print('Cross-validation data:', flush=True)\n",
        "loss, acc = model.evaluate(f_x_val, f_y_val, verbose=1)\n",
        "print(\"  Cross-val: loss %.3f - acc %.3f\" % (loss, acc))\n",
        "print('Test data:', flush=True)\n",
        "loss, acc = model.evaluate(f_x_test, f_y_test, verbose=1)\n",
        "print(\"  Testing  : loss %.3f - acc %.3f\" % (loss, acc))"
      ],
      "execution_count": 11,
      "outputs": [
        {
          "output_type": "stream",
          "name": "stdout",
          "text": [
            "\n",
            "Evaluating...\n",
            "Training data:\n",
            "1594/1594 [==============================] - 12s 7ms/step - loss: 0.0518 - accuracy: 0.9815\n",
            "  Training : loss 0.052 - acc 0.981\n",
            "Cross-validation data:\n",
            "282/282 [==============================] - 2s 7ms/step - loss: 0.3860 - accuracy: 0.9194\n",
            "  Cross-val: loss 0.386 - acc 0.919\n",
            "Test data:\n",
            "313/313 [==============================] - 2s 8ms/step - loss: 0.3981 - accuracy: 0.9189\n",
            "  Testing  : loss 0.398 - acc 0.919\n"
          ]
        }
      ]
    },
    {
      "cell_type": "markdown",
      "metadata": {
        "id": "gQct8ifckYUG"
      },
      "source": [
        "# Emojis"
      ]
    },
    {
      "cell_type": "code",
      "metadata": {
        "id": "HYBZLGyDJGX0"
      },
      "source": [
        "data = np.loadtxt(\"emojis.txt\") \n",
        "x = data[:,1:]\n",
        "y = data[:,0]"
      ],
      "execution_count": 31,
      "outputs": []
    },
    {
      "cell_type": "code",
      "metadata": {
        "id": "AtFQMFrQI2u9"
      },
      "source": [
        "x = np.array([np.reshape(z, (32, 32)) for z in x])\n",
        "\n",
        "e_x_train, e_x_test, e_y_train, e_y_test = train_test_split(x, y, test_size=0.2)\n",
        "\n",
        "e_x_train, e_x_val, e_y_train, e_y_val = train_test_split(e_x_train, e_y_train, test_size=0.2)"
      ],
      "execution_count": 40,
      "outputs": []
    },
    {
      "cell_type": "code",
      "metadata": {
        "colab": {
          "base_uri": "https://localhost:8080/"
        },
        "id": "qS-xdFq3kE9U",
        "outputId": "96d7de36-2f3a-4304-f7ef-236ca8bca3ff"
      },
      "source": [
        "print(e_x_train.shape, e_x_val.shape, e_x_test.shape)"
      ],
      "execution_count": 41,
      "outputs": [
        {
          "output_type": "stream",
          "name": "stdout",
          "text": [
            "(1580, 32, 32) (396, 32, 32) (494, 32, 32)\n"
          ]
        }
      ]
    },
    {
      "cell_type": "code",
      "metadata": {
        "id": "9TlBtnCskNQv"
      },
      "source": [
        "model = Sequential([\n",
        "    Conv2D(64, kernel_size=(3, 3), activation='relu', padding='same', \n",
        "            input_shape=(32, 32, 1)),\n",
        "    BatchNormalization(),\n",
        "    Conv2D(64, kernel_size=(3, 3), activation='relu'),\n",
        "    BatchNormalization(),\n",
        "    MaxPooling2D(pool_size=(2, 2)),\n",
        "    \n",
        "    Flatten(),\n",
        "    \n",
        "    Dense(1024, activation='relu'),\n",
        "    Dense(512, activation='relu'),\n",
        "    \n",
        "    Dense(10, activation='softmax')\n",
        "])"
      ],
      "execution_count": 46,
      "outputs": []
    },
    {
      "cell_type": "code",
      "metadata": {
        "colab": {
          "base_uri": "https://localhost:8080/"
        },
        "id": "WBe8YzJbHudf",
        "outputId": "25c7ba65-5080-4f01-930c-874e25aee299"
      },
      "source": [
        "adam = Adam(lr=0.001, decay=1e-6)\n",
        "model.compile(optimizer=adam,\n",
        "                loss='sparse_categorical_crossentropy',\n",
        "                metrics=['accuracy'])"
      ],
      "execution_count": 47,
      "outputs": [
        {
          "output_type": "stream",
          "name": "stderr",
          "text": [
            "/usr/local/lib/python3.7/dist-packages/keras/optimizer_v2/adam.py:105: UserWarning: The `lr` argument is deprecated, use `learning_rate` instead.\n",
            "  super(Adam, self).__init__(name, **kwargs)\n"
          ]
        }
      ]
    },
    {
      "cell_type": "code",
      "metadata": {
        "colab": {
          "base_uri": "https://localhost:8080/"
        },
        "id": "-BQjsNbnH0MD",
        "outputId": "42aa62ae-b795-48f3-8c40-6d9d7a6b6a28"
      },
      "source": [
        " history = model.fit(e_x_train, e_y_train, validation_data=(e_x_val, e_y_val) , epochs=15, batch_size=32)"
      ],
      "execution_count": 48,
      "outputs": [
        {
          "output_type": "stream",
          "name": "stdout",
          "text": [
            "Epoch 1/15\n",
            "50/50 [==============================] - 2s 24ms/step - loss: 3.4452 - accuracy: 0.6810 - val_loss: 14.9787 - val_accuracy: 0.1970\n",
            "Epoch 2/15\n",
            "50/50 [==============================] - 1s 22ms/step - loss: 0.2782 - accuracy: 0.8949 - val_loss: 36.2066 - val_accuracy: 0.1869\n",
            "Epoch 3/15\n",
            "50/50 [==============================] - 1s 19ms/step - loss: 0.1556 - accuracy: 0.9405 - val_loss: 45.3761 - val_accuracy: 0.1869\n",
            "Epoch 4/15\n",
            "50/50 [==============================] - 1s 19ms/step - loss: 0.0903 - accuracy: 0.9741 - val_loss: 45.3632 - val_accuracy: 0.1869\n",
            "Epoch 5/15\n",
            "50/50 [==============================] - 1s 21ms/step - loss: 0.0435 - accuracy: 0.9880 - val_loss: 39.6924 - val_accuracy: 0.1944\n",
            "Epoch 6/15\n",
            "50/50 [==============================] - 1s 19ms/step - loss: 0.0139 - accuracy: 0.9968 - val_loss: 29.2090 - val_accuracy: 0.2374\n",
            "Epoch 7/15\n",
            "50/50 [==============================] - 1s 21ms/step - loss: 0.0207 - accuracy: 0.9943 - val_loss: 17.6509 - val_accuracy: 0.3157\n",
            "Epoch 8/15\n",
            "50/50 [==============================] - 1s 21ms/step - loss: 0.0621 - accuracy: 0.9810 - val_loss: 9.0668 - val_accuracy: 0.3788\n",
            "Epoch 9/15\n",
            "50/50 [==============================] - 1s 19ms/step - loss: 0.0456 - accuracy: 0.9892 - val_loss: 3.3816 - val_accuracy: 0.5202\n",
            "Epoch 10/15\n",
            "50/50 [==============================] - 1s 20ms/step - loss: 0.0396 - accuracy: 0.9937 - val_loss: 0.6340 - val_accuracy: 0.7929\n",
            "Epoch 11/15\n",
            "50/50 [==============================] - 1s 21ms/step - loss: 0.0104 - accuracy: 0.9981 - val_loss: 0.4086 - val_accuracy: 0.8737\n",
            "Epoch 12/15\n",
            "50/50 [==============================] - 1s 19ms/step - loss: 0.0077 - accuracy: 0.9987 - val_loss: 0.2515 - val_accuracy: 0.9343\n",
            "Epoch 13/15\n",
            "50/50 [==============================] - 1s 21ms/step - loss: 0.0028 - accuracy: 0.9994 - val_loss: 0.2347 - val_accuracy: 0.9394\n",
            "Epoch 14/15\n",
            "50/50 [==============================] - 1s 19ms/step - loss: 0.0033 - accuracy: 0.9994 - val_loss: 0.2223 - val_accuracy: 0.9545\n",
            "Epoch 15/15\n",
            "50/50 [==============================] - 1s 21ms/step - loss: 0.0044 - accuracy: 0.9994 - val_loss: 0.2342 - val_accuracy: 0.9545\n"
          ]
        }
      ]
    },
    {
      "cell_type": "code",
      "metadata": {
        "colab": {
          "base_uri": "https://localhost:8080/"
        },
        "id": "1Z6evlunH5ZI",
        "outputId": "5dddeaab-d872-46ce-ee88-f121a8dee457"
      },
      "source": [
        "print(\"\\nEvaluating...\", flush=True)\n",
        "print('Training data:', flush=True)\n",
        "loss, acc = model.evaluate(e_x_train, e_y_train, verbose=1)\n",
        "print(\"  Training : loss %.3f - acc %.3f\" % (loss, acc))\n",
        "print('Cross-validation data:', flush=True)\n",
        "loss, acc = model.evaluate(e_x_val, e_y_val, verbose=1)\n",
        "print(\"  Cross-val: loss %.3f - acc %.3f\" % (loss, acc))\n",
        "print('Test data:', flush=True)\n",
        "loss, acc = model.evaluate(e_x_test, e_y_test, verbose=1)\n",
        "print(\"  Testing  : loss %.3f - acc %.3f\" % (loss, acc))"
      ],
      "execution_count": 49,
      "outputs": [
        {
          "output_type": "stream",
          "name": "stdout",
          "text": [
            "\n",
            "Evaluating...\n",
            "Training data:\n",
            "50/50 [==============================] - 0s 8ms/step - loss: 0.0060 - accuracy: 0.9994\n",
            "  Training : loss 0.006 - acc 0.999\n",
            "Cross-validation data:\n",
            "13/13 [==============================] - 0s 8ms/step - loss: 0.2342 - accuracy: 0.9545\n",
            "  Cross-val: loss 0.234 - acc 0.955\n",
            "Test data:\n",
            "16/16 [==============================] - 0s 12ms/step - loss: 0.2410 - accuracy: 0.9636\n",
            "  Testing  : loss 0.241 - acc 0.964\n"
          ]
        }
      ]
    }
  ]
}