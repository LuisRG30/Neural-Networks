{
  "nbformat": 4,
  "nbformat_minor": 0,
  "metadata": {
    "colab": {
      "name": "Clasificación de imágenes con métodos clásicos y redes neuronales",
      "provenance": [],
      "collapsed_sections": [],
      "toc_visible": true
    },
    "kernelspec": {
      "display_name": "Python 3",
      "name": "python3"
    },
    "language_info": {
      "name": "python"
    }
  },
  "cells": [
    {
      "cell_type": "markdown",
      "metadata": {
        "id": "BdJS9-qh4d-3"
      },
      "source": [
        "# Dependencias"
      ]
    },
    {
      "cell_type": "code",
      "metadata": {
        "id": "OAOMCWlpATWv"
      },
      "source": [
        "import pandas as pd\n",
        "import numpy as np\n",
        "import matplotlib.pyplot as plt\n",
        "from keras.datasets import fashion_mnist\n",
        "from scipy.stats import kurtosis, skew\n",
        "from skimage.feature.texture import greycomatrix, greycoprops\n",
        "from sklearn.discriminant_analysis import LinearDiscriminantAnalysis\n",
        "from sklearn import datasets, svm, metrics, model_selection\n",
        "from sklearn.neighbors import KNeighborsClassifier, KNeighborsRegressor\n",
        "from sklearn.model_selection import train_test_split\n",
        "from sklearn.metrics import recall_score, mean_squared_error\n",
        "from sklearn.neural_network import MLPClassifier, MLPRegressor\n",
        "from pprint import pprint\n",
        "import pickle"
      ],
      "execution_count": 56,
      "outputs": []
    },
    {
      "cell_type": "markdown",
      "metadata": {
        "id": "OTeou-YgRwEd"
      },
      "source": [
        "# Evaluación de modelos clásicos de aprendizaje supervisado"
      ]
    },
    {
      "cell_type": "code",
      "metadata": {
        "id": "oTgzlyHVVEOg"
      },
      "source": [
        "# Obtain the 7 requested stats from a given dataset\n",
        "def extract_descriptors(data, size):\n",
        "    out = []\n",
        "    for image in data:\n",
        "        max_val = image.max()\n",
        "        mean_val = image.mean()\n",
        "        var_val = image.var()\n",
        "        skew_val = skew(image)\n",
        "        kur_val = kurtosis(image)\n",
        "\n",
        "        image = np.reshape(image, (size, size))\n",
        "\n",
        "        tmp = (image-image.min()).astype(int)\n",
        "        glcm = greycomatrix(tmp , distances=[5], angles=[0], levels=256, symmetric=True, normed=True)\n",
        "        dissimilarity = greycoprops(glcm, 'dissimilarity')[0, 0]\n",
        "        correlation = greycoprops(glcm, 'correlation')[0, 0]\n",
        "        out.append([max_val, mean_val, var_val, skew_val, kur_val, dissimilarity, correlation])\n",
        "    return out"
      ],
      "execution_count": 2,
      "outputs": []
    },
    {
      "cell_type": "markdown",
      "metadata": {
        "id": "KCEsqrSCGN3O"
      },
      "source": [
        "## Fashion M-Nist"
      ]
    },
    {
      "cell_type": "code",
      "metadata": {
        "id": "XrEIh3AQAc9L"
      },
      "source": [
        "# Extract and divide the dataset\n",
        "\n",
        "(f_x_train, f_y_train), (f_x_test, f_y_test) = fashion_mnist.load_data()\n",
        "\n",
        "f_x_train = f_x_train.reshape(-1, 784).astype(\"float32\") / 255\n",
        "f_x_test = f_x_test.reshape(-1, 784).astype(\"float32\") / 255\n",
        "\n",
        "f_x_train_desc = extract_descriptors(f_x_train, 28)\n",
        "f_x_test_desc = extract_descriptors(f_x_test, 28)"
      ],
      "execution_count": 4,
      "outputs": []
    },
    {
      "cell_type": "code",
      "metadata": {
        "id": "BCbJOWbjbaUV"
      },
      "source": [
        "fashion_scores = {\"pixels\": {}, \"descriptors\":{}}"
      ],
      "execution_count": 22,
      "outputs": []
    },
    {
      "cell_type": "code",
      "metadata": {
        "id": "sn6FreWgtHX2"
      },
      "source": [
        "# F-MNIST LDA Pixels\n",
        "clf = LinearDiscriminantAnalysis()\n",
        "clf.fit(f_x_train, f_y_train)\n",
        "y_pred = clf.predict(f_x_test)\n",
        "accuracy = clf.score(f_x_train, f_y_train)\n",
        "recall = recall_score(f_y_test, y_pred, average=None)\n",
        "fashion_scores[\"pixels\"][\"lda\"] = {\"accuracy\": accuracy, \"recall\": recall}"
      ],
      "execution_count": 23,
      "outputs": []
    },
    {
      "cell_type": "code",
      "metadata": {
        "id": "CHVJXtVmT6Q0"
      },
      "source": [
        "# F-MNIST KNN Pixels\n",
        "neigh = KNeighborsClassifier(n_neighbors=15)\n",
        "neigh.fit(f_x_train, f_y_train)\n",
        "y_pred = clf.predict(f_x_test)\n",
        "accuracy = clf.score(f_x_train, f_y_train)\n",
        "recall = recall_score(f_y_test, y_pred, average=None)\n",
        "fashion_scores[\"pixels\"][\"knn\"] = {\"accuracy\": accuracy, \"recall\": recall}"
      ],
      "execution_count": 24,
      "outputs": []
    },
    {
      "cell_type": "code",
      "metadata": {
        "id": "zEzGrrIlBkL8"
      },
      "source": [
        "# F-MNIST LDA Descriptors\n",
        "clf = LinearDiscriminantAnalysis()\n",
        "clf.fit(f_x_train_desc, f_y_train)\n",
        "y_pred = clf.predict(f_x_test_desc)\n",
        "accuracy = clf.score(f_x_train_desc, f_y_train)\n",
        "recall = recall_score(f_y_test, y_pred, average=None)\n",
        "fashion_scores[\"descriptors\"][\"lda\"] = {\"accuracy\": accuracy, \"recall\": recall}"
      ],
      "execution_count": 25,
      "outputs": []
    },
    {
      "cell_type": "code",
      "metadata": {
        "id": "tGLB1X0jDdQg"
      },
      "source": [
        "# F-MNIST KNN Descriptors\n",
        "neigh = KNeighborsClassifier(n_neighbors=15)\n",
        "neigh.fit(f_x_train_desc, f_y_train)\n",
        "y_pred = clf.predict(f_x_test_desc)\n",
        "accuracy = clf.score(f_x_train_desc, f_y_train)\n",
        "recall = recall_score(f_y_test, y_pred, average=None)\n",
        "fashion_scores[\"descriptors\"][\"knn\"] = {\"accuracy\": accuracy, \"recall\": recall}"
      ],
      "execution_count": 26,
      "outputs": []
    },
    {
      "cell_type": "code",
      "metadata": {
        "colab": {
          "base_uri": "https://localhost:8080/"
        },
        "id": "ekmBevM1FGwA",
        "outputId": "807fb02e-db4c-4f24-d932-981cad500192"
      },
      "source": [
        "pprint(fashion_scores)"
      ],
      "execution_count": 27,
      "outputs": [
        {
          "output_type": "stream",
          "name": "stdout",
          "text": [
            "{'descriptors': {'knn': {'accuracy': 0.3429333333333333,\n",
            "                         'recall': array([0.123, 0.433, 0.305, 0.143, 0.38 , 0.555, 0.369, 0.469, 0.128,\n",
            "       0.452])},\n",
            "                 'lda': {'accuracy': 0.3429333333333333,\n",
            "                         'recall': array([0.123, 0.433, 0.305, 0.143, 0.38 , 0.555, 0.369, 0.469, 0.128,\n",
            "       0.452])}},\n",
            " 'pixels': {'knn': {'accuracy': 0.8325833333333333,\n",
            "                    'recall': array([0.777, 0.933, 0.682, 0.846, 0.743, 0.89 , 0.558, 0.893, 0.92 ,\n",
            "       0.909])},\n",
            "            'lda': {'accuracy': 0.8325833333333333,\n",
            "                    'recall': array([0.777, 0.933, 0.682, 0.846, 0.743, 0.89 , 0.558, 0.893, 0.92 ,\n",
            "       0.909])}}}\n"
          ]
        }
      ]
    },
    {
      "cell_type": "markdown",
      "metadata": {
        "id": "qW3x0qODGQrD"
      },
      "source": [
        "## Emojis"
      ]
    },
    {
      "cell_type": "code",
      "metadata": {
        "id": "9euAoxvMFI3t"
      },
      "source": [
        "data = np.loadtxt(\"emojis.txt\") \n",
        "x = data[:,1:]\n",
        "y = data[:,0]\n",
        "\n",
        "e_x_train, e_x_test, e_y_train, e_y_test = train_test_split(x, y, test_size=0.2)\n",
        "\n",
        "e_x_train_desc = extract_descriptors(e_x_train, 32)\n",
        "e_x_test_desc = extract_descriptors(e_x_test, 32)"
      ],
      "execution_count": 28,
      "outputs": []
    },
    {
      "cell_type": "code",
      "metadata": {
        "id": "-MRgQCqnQU6z"
      },
      "source": [
        "emojis_scores = {\"pixels\": {}, \"descriptors\":{}}"
      ],
      "execution_count": 29,
      "outputs": []
    },
    {
      "cell_type": "code",
      "metadata": {
        "id": "Y2eiFS4SQfJh"
      },
      "source": [
        "# Emojis LDA Pixels\n",
        "clf = LinearDiscriminantAnalysis()\n",
        "score_cv = model_selection.cross_val_score(clf, e_x_train, e_y_train)\n",
        "y_pred = model_selection.cross_val_predict(clf, e_x_test, e_y_test)\n",
        "recall = recall_score(e_y_test, y_pred, average=None)\n",
        "emojis_scores[\"pixels\"][\"lda\"] = {\"accuracy\": max(score_cv), \"recall\": recall}"
      ],
      "execution_count": 30,
      "outputs": []
    },
    {
      "cell_type": "code",
      "metadata": {
        "id": "a5lZgaFsQfJi"
      },
      "source": [
        "# Emojis KNN Pixels\n",
        "neigh = KNeighborsClassifier(n_neighbors=15)\n",
        "score_cv = model_selection.cross_val_score(neigh, e_x_train, e_y_train)\n",
        "y_pred = model_selection.cross_val_predict(neigh, e_x_test, e_y_test)\n",
        "recall = recall_score(e_y_test, y_pred, average=None)\n",
        "emojis_scores[\"pixels\"][\"knn\"] = {\"accuracy\": max(score_cv), \"recall\": recall}"
      ],
      "execution_count": 31,
      "outputs": []
    },
    {
      "cell_type": "code",
      "metadata": {
        "id": "o93vJcOeQfJi"
      },
      "source": [
        "# Emojis LDA Descriptors\n",
        "clf = LinearDiscriminantAnalysis()\n",
        "score_cv = model_selection.cross_val_score(clf, e_x_train_desc, e_y_train)\n",
        "y_pred = model_selection.cross_val_predict(clf, e_x_test_desc, e_y_test)\n",
        "recall = recall_score(e_y_test, y_pred, average=None)\n",
        "emojis_scores[\"descriptors\"][\"lda\"] = {\"accuracy\": accuracy, \"recall\": recall}"
      ],
      "execution_count": 32,
      "outputs": []
    },
    {
      "cell_type": "code",
      "metadata": {
        "id": "zbw3TqnUQfJi"
      },
      "source": [
        "# Emojis KNN Descriptors\n",
        "neigh = KNeighborsClassifier(n_neighbors=15)\n",
        "score_cv = model_selection.cross_val_score(neigh, e_x_train_desc, e_y_train)\n",
        "y_pred = model_selection.cross_val_predict(neigh, e_x_test_desc, e_y_test)\n",
        "recall = recall_score(e_y_test, y_pred, average=None)\n",
        "emojis_scores[\"descriptors\"][\"knn\"] = {\"accuracy\": max(score_cv), \"recall\": recall}"
      ],
      "execution_count": 33,
      "outputs": []
    },
    {
      "cell_type": "code",
      "metadata": {
        "colab": {
          "base_uri": "https://localhost:8080/"
        },
        "id": "vHQWS761QzM8",
        "outputId": "318f4fa0-9e26-4eec-cfe6-a0bc85a77b8a"
      },
      "source": [
        "pprint(emojis_scores)"
      ],
      "execution_count": 34,
      "outputs": [
        {
          "output_type": "stream",
          "name": "stdout",
          "text": [
            "{'descriptors': {'knn': {'accuracy': 0.3341772151898734,\n",
            "                         'recall': array([0.32258065, 0.35294118, 0.4494382 , 0.20833333, 0.25438596])},\n",
            "                 'lda': {'accuracy': 0.3429333333333333,\n",
            "                         'recall': array([0.27956989, 0.24509804, 0.70786517, 0.26041667, 0.33333333])}},\n",
            " 'pixels': {'knn': {'accuracy': 0.6531645569620254,\n",
            "                    'recall': array([0.27956989, 0.48039216, 0.97752809, 0.5       , 0.42982456])},\n",
            "            'lda': {'accuracy': 0.6506329113924051,\n",
            "                    'recall': array([0.55913978, 0.53921569, 1.        , 0.39583333, 0.56140351])}}}\n"
          ]
        }
      ]
    },
    {
      "cell_type": "markdown",
      "metadata": {
        "id": "5cVLBSm7Gle3"
      },
      "source": [
        "## Marte"
      ]
    },
    {
      "cell_type": "code",
      "metadata": {
        "id": "0jsckZ-LGovI"
      },
      "source": [
        "inputFile = open('navigability.obj', 'rb')\n",
        "data = pickle.load(inputFile)"
      ],
      "execution_count": 35,
      "outputs": []
    },
    {
      "cell_type": "code",
      "metadata": {
        "id": "hqKQ6PK5jJqd"
      },
      "source": [
        "# Obtain the 7 requested stats from a given dataset\n",
        "def mars_extract_descriptors(data, size):\n",
        "    out = []\n",
        "    for images in data:\n",
        "        temp = []\n",
        "        for image in images:\n",
        "            image = image.flatten()\n",
        "            \n",
        "            max_val = image.max()\n",
        "            mean_val = image.mean()\n",
        "            var_val = image.var()\n",
        "            skew_val = skew(image)\n",
        "            kur_val = kurtosis(image)\n",
        "            \n",
        "            temp.extend([max_val, mean_val, var_val, skew_val, kur_val])\n",
        "        out.append(temp)\n",
        "    return out"
      ],
      "execution_count": 36,
      "outputs": []
    },
    {
      "cell_type": "code",
      "metadata": {
        "id": "X4cYJTdWgRab"
      },
      "source": [
        "x = [i[-4:] for i in data]\n",
        "y = [j[0] for j in data]\n",
        "\n",
        "m_x_train, m_x_test, m_y_train, m_y_test = train_test_split(x, y, test_size=0.2)\n",
        "\n",
        "m_x_train_desc = mars_extract_descriptors(m_x_train, 20)\n",
        "m_x_test_desc = mars_extract_descriptors(m_x_test, 20)"
      ],
      "execution_count": 37,
      "outputs": []
    },
    {
      "cell_type": "code",
      "metadata": {
        "id": "LtDxYlzOkxRM"
      },
      "source": [
        "mars_scores = {}"
      ],
      "execution_count": 38,
      "outputs": []
    },
    {
      "cell_type": "code",
      "metadata": {
        "id": "jrf3BYAkiG_A"
      },
      "source": [
        "reg = KNeighborsRegressor(n_neighbors=15)\n",
        "score_cv = model_selection.cross_val_score(reg, m_x_train_desc, m_y_train)\n",
        "y_pred = model_selection.cross_val_predict(reg, m_x_test_desc, m_y_test)\n",
        "mse = mean_squared_error(m_y_test, y_pred)\n",
        "mars_scores[\"knn\"] = {\"accuracy\": max(score_cv), \"mse\": mse}"
      ],
      "execution_count": 58,
      "outputs": []
    },
    {
      "cell_type": "code",
      "metadata": {
        "colab": {
          "base_uri": "https://localhost:8080/"
        },
        "id": "euuC-Fc8lPfc",
        "outputId": "22895251-1229-4a0b-84c3-255186351625"
      },
      "source": [
        "mars_scores"
      ],
      "execution_count": 59,
      "outputs": [
        {
          "output_type": "execute_result",
          "data": {
            "text/plain": [
              "{'knn': {'accuracy': 0.5717949609035622, 'mse': 0.8732026143790851}}"
            ]
          },
          "metadata": {},
          "execution_count": 59
        }
      ]
    },
    {
      "cell_type": "markdown",
      "metadata": {
        "id": "eD0ODC7pGuyq"
      },
      "source": [
        "# Clasificación con modelos perceptrón multicapa\n"
      ]
    },
    {
      "cell_type": "markdown",
      "metadata": {
        "id": "ho4fd20sHMTT"
      },
      "source": [
        "## Fashion M-Nist"
      ]
    },
    {
      "cell_type": "code",
      "metadata": {
        "colab": {
          "base_uri": "https://localhost:8080/"
        },
        "id": "CFvFhdzMHU7R",
        "outputId": "af211462-5bd3-416c-ba08-f019742e1d6e"
      },
      "source": [
        "mlp = MLPClassifier(max_iter=100)\n",
        "mlp.fit(f_x_train, f_y_train)\n",
        "y_pred = mlp.predict(f_x_test)\n",
        "accuracy = mlp.score(f_x_train, f_y_train)\n",
        "recall = recall_score(f_y_test, y_pred, average=None)\n",
        "fashion_scores[\"pixels\"][\"mlp\"] = {\"accuracy\": accuracy, \"recall\": recall}"
      ],
      "execution_count": 41,
      "outputs": [
        {
          "output_type": "stream",
          "name": "stderr",
          "text": [
            "/usr/local/lib/python3.7/dist-packages/sklearn/neural_network/_multilayer_perceptron.py:696: ConvergenceWarning: Stochastic Optimizer: Maximum iterations (100) reached and the optimization hasn't converged yet.\n",
            "  ConvergenceWarning,\n"
          ]
        }
      ]
    },
    {
      "cell_type": "code",
      "metadata": {
        "colab": {
          "base_uri": "https://localhost:8080/"
        },
        "id": "PkVn3Jnzm6fT",
        "outputId": "c2bd9e7e-4bc3-4bab-d975-c4ddfe6f51dd"
      },
      "source": [
        "mlp = MLPClassifier(max_iter=100)\n",
        "mlp.fit(f_x_train_desc, f_y_train)\n",
        "y_pred = mlp.predict(f_x_test_desc)\n",
        "accuracy = mlp.score(f_x_train_desc, f_y_train)\n",
        "recall = recall_score(f_y_test, y_pred, average=None)\n",
        "fashion_scores[\"descriptors\"][\"mlp\"] = {\"accuracy\": accuracy, \"recall\": recall}"
      ],
      "execution_count": 42,
      "outputs": [
        {
          "output_type": "stream",
          "name": "stderr",
          "text": [
            "/usr/local/lib/python3.7/dist-packages/sklearn/neural_network/_multilayer_perceptron.py:696: ConvergenceWarning: Stochastic Optimizer: Maximum iterations (100) reached and the optimization hasn't converged yet.\n",
            "  ConvergenceWarning,\n"
          ]
        }
      ]
    },
    {
      "cell_type": "code",
      "metadata": {
        "colab": {
          "base_uri": "https://localhost:8080/"
        },
        "id": "v68T2argoDwh",
        "outputId": "51613570-5ee7-484b-f159-99a203abf3bd"
      },
      "source": [
        "pprint(fashion_scores)"
      ],
      "execution_count": 43,
      "outputs": [
        {
          "output_type": "stream",
          "name": "stdout",
          "text": [
            "{'descriptors': {'knn': {'accuracy': 0.3429333333333333,\n",
            "                         'recall': array([0.123, 0.433, 0.305, 0.143, 0.38 , 0.555, 0.369, 0.469, 0.128,\n",
            "       0.452])},\n",
            "                 'lda': {'accuracy': 0.3429333333333333,\n",
            "                         'recall': array([0.123, 0.433, 0.305, 0.143, 0.38 , 0.555, 0.369, 0.469, 0.128,\n",
            "       0.452])},\n",
            "                 'mlp': {'accuracy': 0.4014666666666667,\n",
            "                         'recall': array([0.342, 0.565, 0.317, 0.234, 0.36 , 0.517, 0.37 , 0.509, 0.189,\n",
            "       0.601])}},\n",
            " 'pixels': {'knn': {'accuracy': 0.8325833333333333,\n",
            "                    'recall': array([0.777, 0.933, 0.682, 0.846, 0.743, 0.89 , 0.558, 0.893, 0.92 ,\n",
            "       0.909])},\n",
            "            'lda': {'accuracy': 0.8325833333333333,\n",
            "                    'recall': array([0.777, 0.933, 0.682, 0.846, 0.743, 0.89 , 0.558, 0.893, 0.92 ,\n",
            "       0.909])},\n",
            "            'mlp': {'accuracy': 0.9789833333333333,\n",
            "                    'recall': array([0.811, 0.975, 0.775, 0.892, 0.849, 0.955, 0.721, 0.963, 0.964,\n",
            "       0.962])}}}\n"
          ]
        }
      ]
    },
    {
      "cell_type": "markdown",
      "metadata": {
        "id": "otN0AAKdHODi"
      },
      "source": [
        "## Emojis"
      ]
    },
    {
      "cell_type": "code",
      "metadata": {
        "colab": {
          "base_uri": "https://localhost:8080/"
        },
        "id": "6iU90tc7HVTo",
        "outputId": "ba5c03b0-958b-4cd0-9397-df9d185b62d0"
      },
      "source": [
        "mlp = MLPClassifier(max_iter=100)\n",
        "score_cv = model_selection.cross_val_score(mlp, e_x_train, e_y_train)\n",
        "y_pred = model_selection.cross_val_predict(mlp, e_x_test, e_y_test)\n",
        "recall = recall_score(e_y_test, y_pred, average=None)\n",
        "emojis_scores[\"pixels\"][\"mlp\"] = {\"accuracy\": max(score_cv), \"recall\": recall}"
      ],
      "execution_count": 53,
      "outputs": [
        {
          "output_type": "stream",
          "name": "stderr",
          "text": [
            "/usr/local/lib/python3.7/dist-packages/sklearn/neural_network/_multilayer_perceptron.py:696: ConvergenceWarning: Stochastic Optimizer: Maximum iterations (100) reached and the optimization hasn't converged yet.\n",
            "  ConvergenceWarning,\n",
            "/usr/local/lib/python3.7/dist-packages/sklearn/neural_network/_multilayer_perceptron.py:696: ConvergenceWarning: Stochastic Optimizer: Maximum iterations (100) reached and the optimization hasn't converged yet.\n",
            "  ConvergenceWarning,\n",
            "/usr/local/lib/python3.7/dist-packages/sklearn/neural_network/_multilayer_perceptron.py:696: ConvergenceWarning: Stochastic Optimizer: Maximum iterations (100) reached and the optimization hasn't converged yet.\n",
            "  ConvergenceWarning,\n",
            "/usr/local/lib/python3.7/dist-packages/sklearn/neural_network/_multilayer_perceptron.py:696: ConvergenceWarning: Stochastic Optimizer: Maximum iterations (100) reached and the optimization hasn't converged yet.\n",
            "  ConvergenceWarning,\n",
            "/usr/local/lib/python3.7/dist-packages/sklearn/neural_network/_multilayer_perceptron.py:696: ConvergenceWarning: Stochastic Optimizer: Maximum iterations (100) reached and the optimization hasn't converged yet.\n",
            "  ConvergenceWarning,\n",
            "/usr/local/lib/python3.7/dist-packages/sklearn/neural_network/_multilayer_perceptron.py:696: ConvergenceWarning: Stochastic Optimizer: Maximum iterations (100) reached and the optimization hasn't converged yet.\n",
            "  ConvergenceWarning,\n",
            "/usr/local/lib/python3.7/dist-packages/sklearn/neural_network/_multilayer_perceptron.py:696: ConvergenceWarning: Stochastic Optimizer: Maximum iterations (100) reached and the optimization hasn't converged yet.\n",
            "  ConvergenceWarning,\n",
            "/usr/local/lib/python3.7/dist-packages/sklearn/neural_network/_multilayer_perceptron.py:696: ConvergenceWarning: Stochastic Optimizer: Maximum iterations (100) reached and the optimization hasn't converged yet.\n",
            "  ConvergenceWarning,\n"
          ]
        }
      ]
    },
    {
      "cell_type": "code",
      "metadata": {
        "colab": {
          "base_uri": "https://localhost:8080/"
        },
        "id": "ol-SdYpGHLFd",
        "outputId": "b4f324fb-d62f-42d9-ebc3-0f6b8646e702"
      },
      "source": [
        "mlp = MLPClassifier(max_iter=100)\n",
        "score_cv = model_selection.cross_val_score(mlp, e_x_train_desc, e_y_train)\n",
        "y_pred = model_selection.cross_val_predict(mlp, e_x_test_desc, e_y_test)\n",
        "recall = recall_score(e_y_test, y_pred, average=None)\n",
        "emojis_scores[\"descriptors\"][\"mlp\"] = {\"accuracy\": max(score_cv), \"recall\": recall}"
      ],
      "execution_count": 54,
      "outputs": [
        {
          "output_type": "stream",
          "name": "stderr",
          "text": [
            "/usr/local/lib/python3.7/dist-packages/sklearn/neural_network/_multilayer_perceptron.py:696: ConvergenceWarning: Stochastic Optimizer: Maximum iterations (100) reached and the optimization hasn't converged yet.\n",
            "  ConvergenceWarning,\n",
            "/usr/local/lib/python3.7/dist-packages/sklearn/neural_network/_multilayer_perceptron.py:696: ConvergenceWarning: Stochastic Optimizer: Maximum iterations (100) reached and the optimization hasn't converged yet.\n",
            "  ConvergenceWarning,\n",
            "/usr/local/lib/python3.7/dist-packages/sklearn/neural_network/_multilayer_perceptron.py:696: ConvergenceWarning: Stochastic Optimizer: Maximum iterations (100) reached and the optimization hasn't converged yet.\n",
            "  ConvergenceWarning,\n",
            "/usr/local/lib/python3.7/dist-packages/sklearn/neural_network/_multilayer_perceptron.py:696: ConvergenceWarning: Stochastic Optimizer: Maximum iterations (100) reached and the optimization hasn't converged yet.\n",
            "  ConvergenceWarning,\n",
            "/usr/local/lib/python3.7/dist-packages/sklearn/neural_network/_multilayer_perceptron.py:696: ConvergenceWarning: Stochastic Optimizer: Maximum iterations (100) reached and the optimization hasn't converged yet.\n",
            "  ConvergenceWarning,\n",
            "/usr/local/lib/python3.7/dist-packages/sklearn/neural_network/_multilayer_perceptron.py:696: ConvergenceWarning: Stochastic Optimizer: Maximum iterations (100) reached and the optimization hasn't converged yet.\n",
            "  ConvergenceWarning,\n",
            "/usr/local/lib/python3.7/dist-packages/sklearn/neural_network/_multilayer_perceptron.py:696: ConvergenceWarning: Stochastic Optimizer: Maximum iterations (100) reached and the optimization hasn't converged yet.\n",
            "  ConvergenceWarning,\n",
            "/usr/local/lib/python3.7/dist-packages/sklearn/neural_network/_multilayer_perceptron.py:696: ConvergenceWarning: Stochastic Optimizer: Maximum iterations (100) reached and the optimization hasn't converged yet.\n",
            "  ConvergenceWarning,\n",
            "/usr/local/lib/python3.7/dist-packages/sklearn/neural_network/_multilayer_perceptron.py:696: ConvergenceWarning: Stochastic Optimizer: Maximum iterations (100) reached and the optimization hasn't converged yet.\n",
            "  ConvergenceWarning,\n",
            "/usr/local/lib/python3.7/dist-packages/sklearn/neural_network/_multilayer_perceptron.py:696: ConvergenceWarning: Stochastic Optimizer: Maximum iterations (100) reached and the optimization hasn't converged yet.\n",
            "  ConvergenceWarning,\n"
          ]
        }
      ]
    },
    {
      "cell_type": "code",
      "metadata": {
        "colab": {
          "base_uri": "https://localhost:8080/"
        },
        "id": "m1nb1r3Oykha",
        "outputId": "dd3317d1-a70d-4075-de98-0430774a6426"
      },
      "source": [
        "pprint(emojis_scores)"
      ],
      "execution_count": 55,
      "outputs": [
        {
          "output_type": "stream",
          "name": "stdout",
          "text": [
            "{'descriptors': {'knn': {'accuracy': 0.3341772151898734,\n",
            "                         'recall': array([0.32258065, 0.35294118, 0.4494382 , 0.20833333, 0.25438596])},\n",
            "                 'lda': {'accuracy': 0.3429333333333333,\n",
            "                         'recall': array([0.27956989, 0.24509804, 0.70786517, 0.26041667, 0.33333333])},\n",
            "                 'mlp': {'accuracy': 0.37721518987341773,\n",
            "                         'recall': array([0.        , 0.09803922, 0.61797753, 0.10416667, 0.55263158])}},\n",
            " 'pixels': {'knn': {'accuracy': 0.6531645569620254,\n",
            "                    'recall': array([0.27956989, 0.48039216, 0.97752809, 0.5       , 0.42982456])},\n",
            "            'lda': {'accuracy': 0.6506329113924051,\n",
            "                    'recall': array([0.55913978, 0.53921569, 1.        , 0.39583333, 0.56140351])},\n",
            "            'mlp': {'accuracy': 0.8329113924050633,\n",
            "                    'recall': array([0.5483871 , 0.71568627, 0.98876404, 0.53125   , 0.74561404])}}}\n"
          ]
        }
      ]
    },
    {
      "cell_type": "markdown",
      "metadata": {
        "id": "bigBkTkbHP7h"
      },
      "source": [
        "## Marte"
      ]
    },
    {
      "cell_type": "code",
      "metadata": {
        "id": "ofghSLb24kM6"
      },
      "source": [
        "reg = MLPRegressor(max_iter=1000)\n",
        "score_cv = model_selection.cross_val_score(reg, m_x_train_desc, m_y_train)\n",
        "y_pred = model_selection.cross_val_predict(reg, m_x_test_desc, m_y_test)\n",
        "mse = mean_squared_error(m_y_test, y_pred)\n",
        "mars_scores[\"mlp\"] = {\"accuracy\": max(score_cv), \"mse\": mse}"
      ],
      "execution_count": 64,
      "outputs": []
    },
    {
      "cell_type": "code",
      "metadata": {
        "colab": {
          "base_uri": "https://localhost:8080/"
        },
        "id": "P0951vGV4qKW",
        "outputId": "ea16168b-1bdc-41d6-e342-50e38af50faf"
      },
      "source": [
        "mars_scores"
      ],
      "execution_count": 65,
      "outputs": [
        {
          "output_type": "execute_result",
          "data": {
            "text/plain": [
              "{'knn': {'accuracy': 0.5717949609035622, 'mse': 0.8732026143790851},\n",
              " 'mlp': {'accuracy': -1.249157202691706, 'mse': 2350.117069057886}}"
            ]
          },
          "metadata": {},
          "execution_count": 65
        }
      ]
    }
  ]
}